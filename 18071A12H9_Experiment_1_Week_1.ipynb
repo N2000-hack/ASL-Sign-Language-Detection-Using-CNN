{
  "nbformat": 4,
  "nbformat_minor": 0,
  "metadata": {
    "colab": {
      "name": "18071A12H9_Experiment_1_Week_1.ipynb",
      "provenance": [],
      "collapsed_sections": [],
      "include_colab_link": true
    },
    "kernelspec": {
      "name": "python3",
      "display_name": "Python 3"
    },
    "language_info": {
      "name": "python"
    }
  },
  "cells": [
    {
      "cell_type": "markdown",
      "metadata": {
        "id": "view-in-github",
        "colab_type": "text"
      },
      "source": [
        "<a href=\"https://colab.research.google.com/github/N2000-hack/Face-Detection/blob/main/18071A12H9_Experiment_1_Week_1.ipynb\" target=\"_parent\"><img src=\"https://colab.research.google.com/assets/colab-badge.svg\" alt=\"Open In Colab\"/></a>"
      ]
    },
    {
      "cell_type": "code",
      "metadata": {
        "id": "lLrNzDjd686F"
      },
      "source": [
        "from itertools import product\n"
      ],
      "execution_count": null,
      "outputs": []
    },
    {
      "cell_type": "code",
      "metadata": {
        "id": "GgWhUVjFD1Yn",
        "colab": {
          "base_uri": "https://localhost:8080/"
        },
        "outputId": "69f6b86d-3d49-4f33-fbb9-24318dccdde3"
      },
      "source": [
        "list(product([1,2],['a','b','c']))"
      ],
      "execution_count": null,
      "outputs": [
        {
          "output_type": "execute_result",
          "data": {
            "text/plain": [
              "[(1, 'a'), (1, 'b'), (1, 'c'), (2, 'a'), (2, 'b'), (2, 'c')]"
            ]
          },
          "metadata": {
            "tags": []
          },
          "execution_count": 31
        }
      ]
    },
    {
      "cell_type": "code",
      "metadata": {
        "id": "hUk_TPg8D_KU"
      },
      "source": [
        "n=3#no.of coins tossed\n",
        "Ma=set(product(['H','T'],repeat=n))"
      ],
      "execution_count": null,
      "outputs": []
    },
    {
      "cell_type": "code",
      "metadata": {
        "id": "OiieHYMvEj1Q",
        "colab": {
          "base_uri": "https://localhost:8080/"
        },
        "outputId": "7a61718b-a7e7-403f-abbd-45b2b5ed802c"
      },
      "source": [
        "Ma"
      ],
      "execution_count": null,
      "outputs": [
        {
          "output_type": "execute_result",
          "data": {
            "text/plain": [
              "{('H', 'H', 'H'),\n",
              " ('H', 'H', 'T'),\n",
              " ('H', 'T', 'H'),\n",
              " ('H', 'T', 'T'),\n",
              " ('T', 'H', 'H'),\n",
              " ('T', 'H', 'T'),\n",
              " ('T', 'T', 'H'),\n",
              " ('T', 'T', 'T')}"
            ]
          },
          "metadata": {
            "tags": []
          },
          "execution_count": 33
        }
      ]
    },
    {
      "cell_type": "code",
      "metadata": {
        "id": "LyuHNJ75FGpF"
      },
      "source": [
        "A={pr for pr in Ma if pr[0]=='T'}  #first tossing a tail"
      ],
      "execution_count": null,
      "outputs": []
    },
    {
      "cell_type": "code",
      "metadata": {
        "id": "J4Z2XG9oFtmZ",
        "colab": {
          "base_uri": "https://localhost:8080/"
        },
        "outputId": "b36e42b5-4dc0-4bcc-da47-37cd809417a7"
      },
      "source": [
        "A"
      ],
      "execution_count": null,
      "outputs": [
        {
          "output_type": "execute_result",
          "data": {
            "text/plain": [
              "{('T', 'H', 'H'), ('T', 'H', 'T'), ('T', 'T', 'H'), ('T', 'T', 'T')}"
            ]
          },
          "metadata": {
            "tags": []
          },
          "execution_count": 35
        }
      ]
    },
    {
      "cell_type": "code",
      "metadata": {
        "id": "VHLczDiiFx5G"
      },
      "source": [
        "B={pr for pr in Ma if pr.count('T')==2}"
      ],
      "execution_count": null,
      "outputs": []
    },
    {
      "cell_type": "code",
      "metadata": {
        "id": "KkE09j7FG56r",
        "colab": {
          "base_uri": "https://localhost:8080/"
        },
        "outputId": "0dce2819-5f12-4e36-c4a6-54f31d66d245"
      },
      "source": [
        "B"
      ],
      "execution_count": null,
      "outputs": [
        {
          "output_type": "execute_result",
          "data": {
            "text/plain": [
              "{('H', 'T', 'T'), ('T', 'H', 'T'), ('T', 'T', 'H')}"
            ]
          },
          "metadata": {
            "tags": []
          },
          "execution_count": 11
        }
      ]
    },
    {
      "cell_type": "code",
      "metadata": {
        "id": "tncgKVuGG9Ka"
      },
      "source": [
        "def prob(X):\n",
        "  return len(X)/len(Ma)\n"
      ],
      "execution_count": null,
      "outputs": []
    },
    {
      "cell_type": "code",
      "metadata": {
        "id": "eje3NlYaIgCJ"
      },
      "source": [
        "def cond_prob(X,Y):\n",
        "  return len(X&Y)/len(Y)\n",
        "  "
      ],
      "execution_count": null,
      "outputs": []
    },
    {
      "cell_type": "code",
      "metadata": {
        "id": "FyjCi0KYIvvd",
        "colab": {
          "base_uri": "https://localhost:8080/"
        },
        "outputId": "9a57c2d5-9674-4135-fcb9-54dfa526acbe"
      },
      "source": [
        "prob(A)"
      ],
      "execution_count": null,
      "outputs": [
        {
          "output_type": "execute_result",
          "data": {
            "text/plain": [
              "0.5"
            ]
          },
          "metadata": {
            "tags": []
          },
          "execution_count": 14
        }
      ]
    },
    {
      "cell_type": "code",
      "metadata": {
        "id": "MLOlCFlSI-J0",
        "colab": {
          "base_uri": "https://localhost:8080/"
        },
        "outputId": "06e9865f-3960-44d3-ef14-7f33cfb53d98"
      },
      "source": [
        "prob(B)"
      ],
      "execution_count": null,
      "outputs": [
        {
          "output_type": "execute_result",
          "data": {
            "text/plain": [
              "0.375"
            ]
          },
          "metadata": {
            "tags": []
          },
          "execution_count": 15
        }
      ]
    },
    {
      "cell_type": "code",
      "metadata": {
        "id": "clQGF_6GJ8Sz",
        "colab": {
          "base_uri": "https://localhost:8080/"
        },
        "outputId": "98c2aaf6-0eee-49c2-eb64-bb3af86227ef"
      },
      "source": [
        "cond_prob(A,B)"
      ],
      "execution_count": null,
      "outputs": [
        {
          "output_type": "execute_result",
          "data": {
            "text/plain": [
              "0.6666666666666666"
            ]
          },
          "metadata": {
            "tags": []
          },
          "execution_count": 17
        }
      ]
    },
    {
      "cell_type": "code",
      "metadata": {
        "id": "1jpilPApKCuh",
        "colab": {
          "base_uri": "https://localhost:8080/"
        },
        "outputId": "4e14db74-1295-46db-a705-993e27bfba75"
      },
      "source": [
        "prob(A&B)"
      ],
      "execution_count": null,
      "outputs": [
        {
          "output_type": "execute_result",
          "data": {
            "text/plain": [
              "0.25"
            ]
          },
          "metadata": {
            "tags": []
          },
          "execution_count": 16
        }
      ]
    },
    {
      "cell_type": "code",
      "metadata": {
        "id": "p2oVyy8hKlJ5",
        "colab": {
          "base_uri": "https://localhost:8080/"
        },
        "outputId": "cd2fbbd9-e12a-459c-dc16-68773f9f2cd8"
      },
      "source": [
        "prob(A)*prob(B)"
      ],
      "execution_count": null,
      "outputs": [
        {
          "output_type": "execute_result",
          "data": {
            "text/plain": [
              "0.1875"
            ]
          },
          "metadata": {
            "tags": []
          },
          "execution_count": 20
        }
      ]
    },
    {
      "cell_type": "code",
      "metadata": {
        "id": "IQAnz8QqKqzX"
      },
      "source": [
        "def indep(X,Y):\n",
        "  return prob(X & Y)==prob(X)*prob(Y)\n",
        "  "
      ],
      "execution_count": null,
      "outputs": []
    },
    {
      "cell_type": "code",
      "metadata": {
        "id": "TmNF10AXLQCQ",
        "colab": {
          "base_uri": "https://localhost:8080/"
        },
        "outputId": "fe4f4112-b8e3-4780-ea69-7784b2f5ff83"
      },
      "source": [
        "indep(A,B)"
      ],
      "execution_count": null,
      "outputs": [
        {
          "output_type": "execute_result",
          "data": {
            "text/plain": [
              "False"
            ]
          },
          "metadata": {
            "tags": []
          },
          "execution_count": 19
        }
      ]
    },
    {
      "cell_type": "code",
      "metadata": {
        "id": "d5fsyXVdLYjn"
      },
      "source": [
        "C={pr for pr in Ma if pr[1]=='H'}"
      ],
      "execution_count": null,
      "outputs": []
    },
    {
      "cell_type": "code",
      "metadata": {
        "id": "ZpoZVb7AMKpO",
        "colab": {
          "base_uri": "https://localhost:8080/"
        },
        "outputId": "5b71fbfe-a838-47cc-a940-f1d03b6fc73c"
      },
      "source": [
        "indep(A,C)"
      ],
      "execution_count": null,
      "outputs": [
        {
          "output_type": "execute_result",
          "data": {
            "text/plain": [
              "True"
            ]
          },
          "metadata": {
            "tags": []
          },
          "execution_count": 22
        }
      ]
    },
    {
      "cell_type": "code",
      "metadata": {
        "id": "632IWeS9a78m",
        "colab": {
          "base_uri": "https://localhost:8080/"
        },
        "outputId": "eeb3c635-369f-4995-f8a2-2eb8d01cb523"
      },
      "source": [
        "day={'Mon','Tue','Wed','Thu','Fri'}\n",
        "day"
      ],
      "execution_count": null,
      "outputs": [
        {
          "output_type": "execute_result",
          "data": {
            "text/plain": [
              "{'Fri', 'Mon', 'Thu', 'Tue', 'Wed'}"
            ]
          },
          "metadata": {
            "tags": []
          },
          "execution_count": 23
        }
      ]
    },
    {
      "cell_type": "code",
      "metadata": {
        "id": "R5607oUPbNrj"
      },
      "source": [
        "Fri={'Friday'}"
      ],
      "execution_count": null,
      "outputs": []
    },
    {
      "cell_type": "code",
      "metadata": {
        "id": "33jPPpvcbUA6"
      },
      "source": [
        "def prob(X):\n",
        "  return len(X)/len(day)"
      ],
      "execution_count": null,
      "outputs": []
    },
    {
      "cell_type": "code",
      "metadata": {
        "id": "99Jj4Gw6bdV0",
        "colab": {
          "base_uri": "https://localhost:8080/"
        },
        "outputId": "4e1c1091-30f4-414c-a023-4d2d42861aa8"
      },
      "source": [
        "prob(Fri)"
      ],
      "execution_count": null,
      "outputs": [
        {
          "output_type": "execute_result",
          "data": {
            "text/plain": [
              "0.2"
            ]
          },
          "metadata": {
            "tags": []
          },
          "execution_count": 26
        }
      ]
    },
    {
      "cell_type": "code",
      "metadata": {
        "id": "NOic0c21bg7d"
      },
      "source": [
        "Absent=0.03"
      ],
      "execution_count": null,
      "outputs": []
    },
    {
      "cell_type": "code",
      "metadata": {
        "id": "b9-HaboLbmfJ"
      },
      "source": [
        "def cond(X,Y):\n",
        "  return X/prob(Y)"
      ],
      "execution_count": null,
      "outputs": []
    },
    {
      "cell_type": "code",
      "metadata": {
        "id": "iX2COE59byfE",
        "colab": {
          "base_uri": "https://localhost:8080/"
        },
        "outputId": "ffc161c9-e801-47c6-d94a-41f83e7ffd1b"
      },
      "source": [
        "cond(Absent,Fri)"
      ],
      "execution_count": null,
      "outputs": [
        {
          "output_type": "execute_result",
          "data": {
            "text/plain": [
              "0.15"
            ]
          },
          "metadata": {
            "tags": []
          },
          "execution_count": 29
        }
      ]
    }
  ]
}